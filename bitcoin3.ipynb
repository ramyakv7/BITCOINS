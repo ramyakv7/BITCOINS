{
  "nbformat": 4,
  "nbformat_minor": 0,
  "metadata": {
    "colab": {
      "provenance": []
    },
    "kernelspec": {
      "name": "python3",
      "display_name": "Python 3"
    },
    "language_info": {
      "name": "python"
    }
  },
  "cells": [
    {
      "cell_type": "code",
      "source": [
        "import requests\n",
        "import time\n",
        "\n",
        "prices = []\n",
        "\n",
        "for i in range(288):\n",
        "    response = requests.get(\"https://api.coindesk.com/v1/bpi/currentprice.json\")\n",
        "    data = response.json()\n",
        "    price_usd = data[\"bpi\"][\"USD\"][\"rate_float\"]\n",
        "    price_gbp = data[\"bpi\"][\"GBP\"][\"rate_float\"]\n",
        "    prices.append(price_usd)\n",
        "    prices.append(price_gbp)\n",
        "    time.sleep(300)\n",
        "    \n",
        "    \n",
        "\n"
      ],
      "metadata": {
        "id": "U-Tk2Bf9m1sn"
      },
      "execution_count": null,
      "outputs": []
    },
    {
      "cell_type": "code",
      "source": [
        "max_price = prices[0]\n",
        "min_price = prices[0]\n",
        "\n",
        "for i in prices:\n",
        "    if i > max_price:\n",
        "        max_price = i\n",
        "    if i < min_price:\n",
        "        min_price = i\n",
        "\n",
        "print(\"Highest price: \", max_price)\n",
        "print(\"Lowest price: \", min_price)\n"
      ],
      "metadata": {
        "colab": {
          "base_uri": "https://localhost:8080/"
        },
        "id": "68zyFwEJo0OJ",
        "outputId": "6f19cce9-ce6b-4558-d706-5bc217ad1279"
      },
      "execution_count": 3,
      "outputs": [
        {
          "output_type": "stream",
          "name": "stdout",
          "text": [
            "Highest price:  23006.3505\n",
            "Lowest price:  19223.9225\n"
          ]
        }
      ]
    }
  ]
}