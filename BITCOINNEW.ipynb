{
  "nbformat": 4,
  "nbformat_minor": 0,
  "metadata": {
    "colab": {
      "provenance": []
    },
    "kernelspec": {
      "name": "python3",
      "display_name": "Python 3"
    },
    "language_info": {
      "name": "python"
    }
  },
  "cells": [
    {
      "cell_type": "code",
      "execution_count": 36,
      "metadata": {
        "id": "OuDcpCXhMRYR",
        "colab": {
          "base_uri": "https://localhost:8080/"
        },
        "outputId": "040bf72f-ab62-4be6-ce55-42ab22b6adff"
      },
      "outputs": [
        {
          "output_type": "stream",
          "name": "stdout",
          "text": [
            "{'time': {'updated': 'Jan 27, 2023 20:51:00 UTC', 'updatedISO': '2023-01-27T20:51:00+00:00', 'updateduk': 'Jan 27, 2023 at 20:51 GMT'}, 'disclaimer': 'This data was produced from the CoinDesk Bitcoin Price Index (USD). Non-USD currency data converted using hourly conversion rate from openexchangerates.org', 'chartName': 'Bitcoin', 'bpi': {'USD': {'code': 'USD', 'symbol': '&#36;', 'rate': '23,169.1170', 'description': 'United States Dollar', 'rate_float': 23169.117}, 'GBP': {'code': 'GBP', 'symbol': '&pound;', 'rate': '19,359.9288', 'description': 'British Pound Sterling', 'rate_float': 19359.9288}, 'EUR': {'code': 'EUR', 'symbol': '&euro;', 'rate': '22,570.1026', 'description': 'Euro', 'rate_float': 22570.1026}}}\n"
          ]
        }
      ],
      "source": [
        "import requests\n",
        "response = requests.get('https://api.coindesk.com/v1/bpi/currentprice.json')\n",
        "data = response.json()\n",
        "print(data)"
      ]
    },
    {
      "cell_type": "code",
      "source": [
        "import requests\n",
        "import time\n",
        "import numpy as np\n",
        "USD=[]\n",
        "GBP=[]\n",
        "EUR=[]\n",
        "temp=0\n",
        "\n",
        "\n",
        "for i in range(288):\n",
        "    #print('Datapoint ',i)\n",
        "    response=requests.get('https://api.coindesk.com/v1/bpi/currentprice.json')\n",
        "    data=response.json()\n",
        "    usd_data = data['bpi']['USD']['rate'].replace(',',\"\")\n",
        "    gbp_data = data['bpi']['GBP']['rate'].replace(',',\"\")\n",
        "    eur_data = data['bpi']['EUR']['rate'].replace(',',\"\")\n",
        "\n",
        "    if i > 0:\n",
        "        while (usd_data == USD[-1] or gbp_data == GBP[-1]):\n",
        "            print('Same value - retaking data')\n",
        "            time.sleep(100)\n",
        "            response=requests.get('https://api.coindesk.com/v1/bpi/currentprice.json')\n",
        "            data=response.json()\n",
        "            usd_data = data['bpi']['USD']['rate']\n",
        "            gbp_data = data['bpi']['GBP']['rate']\n",
        "            eur_data = data['bpi']['EUR']['rate']\n",
        "    USD.append(usd_data)\n",
        "    GBP.append(gbp_data)\n",
        "    EUR.append(eur_data)\n",
        "    time.sleep(100) "
      ],
      "metadata": {
        "id": "O0wvL09X77dd"
      },
      "execution_count": null,
      "outputs": []
    },
    {
      "cell_type": "code",
      "source": [
        "USD = np.array(USD,dtype='float')\n",
        "GBP = np.array(GBP,dtype='float')\n",
        "EUR = np.array(EUR,dtype='float')\n",
        "\n",
        "\n",
        "max_USD = -10000000000\n",
        "min_USD = 10000000000\n",
        "max_GBP = -10000000000\n",
        "min_GBP = 10000000000\n",
        "max_EUR = -10000000000\n",
        "min_EUR = 10000000000\n",
        "for i in range(len(USD)):\n",
        "    if USD[i] > max_USD:\n",
        "        max_USD = USD[i]\n",
        "    if USD[i] < min_USD:\n",
        "        min_USD = USD[i]    \n",
        "    if GBP[i] > max_GBP:\n",
        "        max_GBP = GBP[i]\n",
        "    if GBP[i] < min_GBP:\n",
        "        min_GBP = GBP[i] \n",
        "    if EUR[i] > max_EUR:\n",
        "        max_EUR = EUR[i]\n",
        "    if EUR[i] < min_EUR:\n",
        "        min_EUR = EUR[i]   \n",
        "        \n",
        "print('USD : Max = ', max_USD, ' ; Min = ',min_USD)\n",
        "print('GBP : Max = ', max_GBP, ' ; Min = ',min_GBP)\n",
        "print('EUR : Max = ', max_EUR, ' ; Min = ',min_EUR)"
      ],
      "metadata": {
        "colab": {
          "base_uri": "https://localhost:8080/"
        },
        "id": "b10-5LDx4LFx",
        "outputId": "52a3941b-d0fc-4b23-f53c-72eae8b582b9"
      },
      "execution_count": 40,
      "outputs": [
        {
          "output_type": "stream",
          "name": "stdout",
          "text": [
            "USD : Max =  23160.2468  ; Min =  23050.331\n",
            "GBP : Max =  19352.5169  ; Min =  19260.6722\n",
            "EUR : Max =  22561.4617  ; Min =  22454.3878\n"
          ]
        }
      ]
    }
  ]
}